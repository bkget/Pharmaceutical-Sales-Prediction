{
 "cells": [
  {
   "cell_type": "code",
   "execution_count": 1,
   "metadata": {},
   "outputs": [],
   "source": [
    "import os\n",
    "import sys\n",
    "import warnings\n",
    "import numpy as np\n",
    "import pandas as pd\n",
    "import seaborn as sns\n",
    "import matplotlib.pyplot as plt\n",
    "\n",
    "warnings.simplefilter(action='ignore', category=FutureWarning)\n",
    "pd.set_option('display.float_format', lambda x: '%.3f' % x)\n",
    "pd.options.mode.chained_assignment = None  # default='warn'\n",
    "plt.rcParams[\"figure.figsize\"] = (12, 8)\n",
    "pd.set_option('display.max_columns', None)\n",
    "\n",
    "sns.set_style(\"darkgrid\")\n",
    "%matplotlib inline"
   ]
  },
  {
   "cell_type": "code",
   "execution_count": 2,
   "metadata": {},
   "outputs": [
    {
     "name": "stdout",
     "output_type": "stream",
     "text": [
      "2022-05-24 05:20:01,694 — DfOverview — DEBUG — Loaded successfully!\n",
      "2022-05-24 05:20:01,698 — DfCleaner — DEBUG — Loaded successfully!\n",
      "2022-05-24 05:20:01,703 — DfOutlier — DEBUG — Loaded successfully!\n"
     ]
    }
   ],
   "source": [
    "sys.path.append(os.path.abspath(os.path.join('../scripts')))\n",
    "\n",
    "from file_handler import FileHandler\n",
    "from df_overview import DfOverview\n",
    "from df_cleaner import DfCleaner\n",
    "from df_outlier import DfOutlier\n",
    "from plots import *"
   ]
  },
  {
   "cell_type": "markdown",
   "metadata": {},
   "source": [
    "#### Read the Datasets"
   ]
  },
  {
   "cell_type": "code",
   "execution_count": 3,
   "metadata": {},
   "outputs": [
    {
     "name": "stdout",
     "output_type": "stream",
     "text": [
      "2022-05-24 05:20:03,565 — FileHandler — DEBUG — file read as csv\n",
      "2022-05-24 05:20:03,600 — FileHandler — DEBUG — file read as csv\n",
      "2022-05-24 05:20:03,607 — FileHandler — DEBUG — file read as csv\n"
     ]
    },
    {
     "name": "stderr",
     "output_type": "stream",
     "text": [
      "c:\\Users\\Sebli\\Desktop\\10x Files\\Week 3\\Pharmaceutical-Sales-Prediction\\scripts\\file_handler.py:28: DtypeWarning: Columns (7) have mixed types. Specify dtype option on import or set low_memory=False.\n",
      "  df = pd.read_csv(csv_path)\n"
     ]
    }
   ],
   "source": [
    "file_handler = FileHandler()\n",
    "df_train = file_handler.read_csv(\"../data/train.csv\")\n",
    "df_test = file_handler.read_csv(\"../data/test.csv\")\n",
    "df_store = file_handler.read_csv(\"../data/store.csv\")"
   ]
  }
 ],
 "metadata": {
  "interpreter": {
   "hash": "0f08ea943be090a14eff5269cda570ac55dcc0e2bd93317a14b7d7e20047a087"
  },
  "kernelspec": {
   "display_name": "Python 3.10.4 64-bit (windows store)",
   "language": "python",
   "name": "python3"
  },
  "language_info": {
   "codemirror_mode": {
    "name": "ipython",
    "version": 3
   },
   "file_extension": ".py",
   "mimetype": "text/x-python",
   "name": "python",
   "nbconvert_exporter": "python",
   "pygments_lexer": "ipython3",
   "version": "3.10.4"
  },
  "orig_nbformat": 4
 },
 "nbformat": 4,
 "nbformat_minor": 2
}
