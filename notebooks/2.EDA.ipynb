{
 "cells": [
  {
   "cell_type": "code",
   "execution_count": 1,
   "metadata": {},
   "outputs": [],
   "source": [
    "import numpy as np\n",
    "import pandas as pd\n",
    "import matplotlib.pyplot as plt\n",
    "import plotly.express as px\n",
    "import seaborn as sns\n",
    "from scipy import stats\n",
    "from IPython.display import Image\n",
    "import plotly.io as pio\n",
    "\n",
    "from sklearn.preprocessing import LabelEncoder\n",
    "from pandas.plotting import scatter_matrix\n",
    "\n",
    "import os\n",
    "import sys\n",
    "import warnings\n",
    "warnings.simplefilter(action='ignore', category=FutureWarning)\n",
    "pd.set_option('display.float_format', lambda x: '%.3f' % x)\n",
    "pd.options.mode.chained_assignment = None  # default='warn'\n",
    "plt.rcParams[\"figure.figsize\"] = (12, 7)\n",
    "pd.set_option('display.max_columns', None)\n",
    "\n",
    "sns.set_style(\"darkgrid\")\n",
    "%matplotlib inline"
   ]
  },
  {
   "cell_type": "code",
   "execution_count": 2,
   "metadata": {},
   "outputs": [],
   "source": [
    "sys.path.append(os.path.abspath(os.path.join('../scripts')))\n",
    "from file_handler import FileHandler\n",
    "from plots import Plots\n",
    "file_handler = FileHandler()\n",
    "plot = Plots()\n",
    "\n",
    "import warnings\n",
    "warnings.filterwarnings('ignore')"
   ]
  },
  {
   "cell_type": "code",
   "execution_count": 3,
   "metadata": {},
   "outputs": [
    {
     "name": "stdout",
     "output_type": "stream",
     "text": [
      "2022-05-25 17:14:17,717 — FileHandler — DEBUG — file read as csv\n",
      "2022-05-25 17:14:17,755 — FileHandler — DEBUG — file read as csv\n",
      "2022-05-25 17:14:17,761 — FileHandler — DEBUG — file read as csv\n"
     ]
    }
   ],
   "source": [
    "train_df = file_handler.read_csv(\"../data/cleaned_train.csv\")\n",
    "test_df = file_handler.read_csv(\"../data/cleaned_test.csv\")\n",
    "store_df = file_handler.read_csv(\"../data/cleaned_store.csv\") "
   ]
  },
  {
   "cell_type": "markdown",
   "metadata": {},
   "source": [
    "#### Data Field Description\n",
    "- `Id` - an Id that represents a(Store, Date) duple within the test set\n",
    "- `Store` - a unique Id for each store\n",
    "- `Sales` - the turnover for any given day(this is what you are predicting)\n",
    "- `Customers` - the number of customers on a given day\n",
    "- `Open` - an indicator for whether the store was open: 0 = closed, 1 = open\n",
    "- `StateHoliday` - indicates a state holiday. Normally all stores, with few exceptions, are closed on state holidays. Note that all schools are closed on public holidays and weekends. a = public holiday, b = Easter holiday, c = Christmas, 0 = None\n",
    "- `SchoolHoliday` - indicates if the(Store, Date) was affected by the closure of public schools\n",
    "- `StoreType` - differentiates between 4 different store models: a, b, c, d\n",
    "- `Assortment` - describes an assortment level: a = basic, b = extra, c = extended. Read more about assortment here\n",
    "- `CompetitionDistance` - distance in meters to the nearest competitor store\n",
    "- `CompetitionOpenSince[Month / Year]` - gives the approximate year and month of the time the nearest competitor was opened\n",
    "- `Promo` - indicates whether a store is running a promo on that day\n",
    "- `Promo2` - Promo2 is a continuing and consecutive promotion for some stores: 0 = store is not participating, 1 = store is participating\n",
    "- `Promo2Since[Year / Week]` - describes the year and calendar week when the store started participating in Promo2\n",
    "- `PromoInterval` - describes the consecutive intervals Promo2 is started, naming the months the promotion is started anew. E.g. \"Feb,May,Aug,Nov\" means each round starts in February, May, August, November of any given year for that store\n"
   ]
  },
  {
   "cell_type": "code",
   "execution_count": 4,
   "metadata": {},
   "outputs": [],
   "source": [
    "stores_types = [\"A\", \"B\", \"C\", \"D\"]\n",
    "state_holidays = [ \"Normal Day\", \"Public holiday\", \"Easter holiday\", \"Christmas\"] \n",
    "school_holidays = [\"School is closed\", \"School is open\"]\n",
    "assortment = [ \"Basic\", \"Extra\", \"Extended\"] \n",
    "promo = [\"Not participating\", \"Participating\"]\n",
    "store_open = [\"Closed\", \"Open\"]"
   ]
  },
  {
   "cell_type": "code",
   "execution_count": 5,
   "metadata": {},
   "outputs": [
    {
     "name": "stdout",
     "output_type": "stream",
     "text": [
      "<class 'pandas.core.frame.DataFrame'>\n",
      "RangeIndex: 1017209 entries, 0 to 1017208\n",
      "Data columns (total 9 columns):\n",
      " #   Column         Non-Null Count    Dtype \n",
      "---  ------         --------------    ----- \n",
      " 0   Store          1017209 non-null  int64 \n",
      " 1   DayOfWeek      1017209 non-null  int64 \n",
      " 2   Date           1017209 non-null  object\n",
      " 3   Sales          1017209 non-null  int64 \n",
      " 4   Customers      1017209 non-null  int64 \n",
      " 5   Open           1017209 non-null  int64 \n",
      " 6   Promo          1017209 non-null  int64 \n",
      " 7   StateHoliday   1017209 non-null  int64 \n",
      " 8   SchoolHoliday  1017209 non-null  int64 \n",
      "dtypes: int64(8), object(1)\n",
      "memory usage: 69.8+ MB\n"
     ]
    }
   ],
   "source": [
    "train_df.info()"
   ]
  },
  {
   "cell_type": "code",
   "execution_count": 6,
   "metadata": {},
   "outputs": [
    {
     "name": "stdout",
     "output_type": "stream",
     "text": [
      "<class 'pandas.core.frame.DataFrame'>\n",
      "RangeIndex: 41088 entries, 0 to 41087\n",
      "Data columns (total 8 columns):\n",
      " #   Column         Non-Null Count  Dtype \n",
      "---  ------         --------------  ----- \n",
      " 0   Id             41088 non-null  int64 \n",
      " 1   Store          41088 non-null  int64 \n",
      " 2   DayOfWeek      41088 non-null  int64 \n",
      " 3   Date           41088 non-null  object\n",
      " 4   Open           41088 non-null  int64 \n",
      " 5   Promo          41088 non-null  int64 \n",
      " 6   StateHoliday   41088 non-null  int64 \n",
      " 7   SchoolHoliday  41088 non-null  int64 \n",
      "dtypes: int64(7), object(1)\n",
      "memory usage: 2.5+ MB\n"
     ]
    }
   ],
   "source": [
    "test_df.info()"
   ]
  },
  {
   "cell_type": "code",
   "execution_count": 7,
   "metadata": {},
   "outputs": [
    {
     "data": {
      "text/html": [
       "<div>\n",
       "<style scoped>\n",
       "    .dataframe tbody tr th:only-of-type {\n",
       "        vertical-align: middle;\n",
       "    }\n",
       "\n",
       "    .dataframe tbody tr th {\n",
       "        vertical-align: top;\n",
       "    }\n",
       "\n",
       "    .dataframe thead th {\n",
       "        text-align: right;\n",
       "    }\n",
       "</style>\n",
       "<table border=\"1\" class=\"dataframe\">\n",
       "  <thead>\n",
       "    <tr style=\"text-align: right;\">\n",
       "      <th></th>\n",
       "      <th>Store</th>\n",
       "      <th>DayOfWeek</th>\n",
       "      <th>Date</th>\n",
       "      <th>Sales</th>\n",
       "      <th>Customers</th>\n",
       "      <th>Open</th>\n",
       "      <th>Promo</th>\n",
       "      <th>StateHoliday</th>\n",
       "      <th>SchoolHoliday</th>\n",
       "    </tr>\n",
       "  </thead>\n",
       "  <tbody>\n",
       "    <tr>\n",
       "      <th>0</th>\n",
       "      <td>1</td>\n",
       "      <td>5</td>\n",
       "      <td>2015-07-31</td>\n",
       "      <td>5263</td>\n",
       "      <td>555</td>\n",
       "      <td>1</td>\n",
       "      <td>1</td>\n",
       "      <td>0</td>\n",
       "      <td>1</td>\n",
       "    </tr>\n",
       "    <tr>\n",
       "      <th>1</th>\n",
       "      <td>2</td>\n",
       "      <td>5</td>\n",
       "      <td>2015-07-31</td>\n",
       "      <td>6064</td>\n",
       "      <td>625</td>\n",
       "      <td>1</td>\n",
       "      <td>1</td>\n",
       "      <td>0</td>\n",
       "      <td>1</td>\n",
       "    </tr>\n",
       "    <tr>\n",
       "      <th>2</th>\n",
       "      <td>3</td>\n",
       "      <td>5</td>\n",
       "      <td>2015-07-31</td>\n",
       "      <td>8314</td>\n",
       "      <td>821</td>\n",
       "      <td>1</td>\n",
       "      <td>1</td>\n",
       "      <td>0</td>\n",
       "      <td>1</td>\n",
       "    </tr>\n",
       "    <tr>\n",
       "      <th>3</th>\n",
       "      <td>4</td>\n",
       "      <td>5</td>\n",
       "      <td>2015-07-31</td>\n",
       "      <td>13995</td>\n",
       "      <td>1485</td>\n",
       "      <td>1</td>\n",
       "      <td>1</td>\n",
       "      <td>0</td>\n",
       "      <td>1</td>\n",
       "    </tr>\n",
       "    <tr>\n",
       "      <th>4</th>\n",
       "      <td>5</td>\n",
       "      <td>5</td>\n",
       "      <td>2015-07-31</td>\n",
       "      <td>4822</td>\n",
       "      <td>559</td>\n",
       "      <td>1</td>\n",
       "      <td>1</td>\n",
       "      <td>0</td>\n",
       "      <td>1</td>\n",
       "    </tr>\n",
       "  </tbody>\n",
       "</table>\n",
       "</div>"
      ],
      "text/plain": [
       "   Store  DayOfWeek        Date  Sales  Customers  Open  Promo  StateHoliday  \\\n",
       "0      1          5  2015-07-31   5263        555     1      1             0   \n",
       "1      2          5  2015-07-31   6064        625     1      1             0   \n",
       "2      3          5  2015-07-31   8314        821     1      1             0   \n",
       "3      4          5  2015-07-31  13995       1485     1      1             0   \n",
       "4      5          5  2015-07-31   4822        559     1      1             0   \n",
       "\n",
       "   SchoolHoliday  \n",
       "0              1  \n",
       "1              1  \n",
       "2              1  \n",
       "3              1  \n",
       "4              1  "
      ]
     },
     "execution_count": 7,
     "metadata": {},
     "output_type": "execute_result"
    }
   ],
   "source": [
    "train_df.head()"
   ]
  },
  {
   "cell_type": "code",
   "execution_count": 8,
   "metadata": {},
   "outputs": [
    {
     "name": "stdout",
     "output_type": "stream",
     "text": [
      "<class 'pandas.core.frame.DataFrame'>\n",
      "RangeIndex: 1115 entries, 0 to 1114\n",
      "Data columns (total 10 columns):\n",
      " #   Column                     Non-Null Count  Dtype\n",
      "---  ------                     --------------  -----\n",
      " 0   Store                      1115 non-null   int64\n",
      " 1   StoreType                  1115 non-null   int64\n",
      " 2   Assortment                 1115 non-null   int64\n",
      " 3   CompetitionDistance        1115 non-null   int64\n",
      " 4   CompetitionOpenSinceMonth  1115 non-null   int64\n",
      " 5   CompetitionOpenSinceYear   1115 non-null   int64\n",
      " 6   Promo2                     1115 non-null   int64\n",
      " 7   Promo2SinceWeek            1115 non-null   int64\n",
      " 8   Promo2SinceYear            1115 non-null   int64\n",
      " 9   PromoInterval              1115 non-null   int64\n",
      "dtypes: int64(10)\n",
      "memory usage: 87.2 KB\n"
     ]
    }
   ],
   "source": [
    "store_df.info()"
   ]
  },
  {
   "cell_type": "code",
   "execution_count": 9,
   "metadata": {},
   "outputs": [
    {
     "data": {
      "text/html": [
       "<div>\n",
       "<style scoped>\n",
       "    .dataframe tbody tr th:only-of-type {\n",
       "        vertical-align: middle;\n",
       "    }\n",
       "\n",
       "    .dataframe tbody tr th {\n",
       "        vertical-align: top;\n",
       "    }\n",
       "\n",
       "    .dataframe thead th {\n",
       "        text-align: right;\n",
       "    }\n",
       "</style>\n",
       "<table border=\"1\" class=\"dataframe\">\n",
       "  <thead>\n",
       "    <tr style=\"text-align: right;\">\n",
       "      <th></th>\n",
       "      <th>Id</th>\n",
       "      <th>Store</th>\n",
       "      <th>DayOfWeek</th>\n",
       "      <th>Date</th>\n",
       "      <th>Open</th>\n",
       "      <th>Promo</th>\n",
       "      <th>StateHoliday</th>\n",
       "      <th>SchoolHoliday</th>\n",
       "    </tr>\n",
       "  </thead>\n",
       "  <tbody>\n",
       "    <tr>\n",
       "      <th>0</th>\n",
       "      <td>1</td>\n",
       "      <td>1</td>\n",
       "      <td>4</td>\n",
       "      <td>2015-09-17</td>\n",
       "      <td>1</td>\n",
       "      <td>1</td>\n",
       "      <td>0</td>\n",
       "      <td>0</td>\n",
       "    </tr>\n",
       "    <tr>\n",
       "      <th>1</th>\n",
       "      <td>2</td>\n",
       "      <td>3</td>\n",
       "      <td>4</td>\n",
       "      <td>2015-09-17</td>\n",
       "      <td>1</td>\n",
       "      <td>1</td>\n",
       "      <td>0</td>\n",
       "      <td>0</td>\n",
       "    </tr>\n",
       "    <tr>\n",
       "      <th>2</th>\n",
       "      <td>3</td>\n",
       "      <td>7</td>\n",
       "      <td>4</td>\n",
       "      <td>2015-09-17</td>\n",
       "      <td>1</td>\n",
       "      <td>1</td>\n",
       "      <td>0</td>\n",
       "      <td>0</td>\n",
       "    </tr>\n",
       "    <tr>\n",
       "      <th>3</th>\n",
       "      <td>4</td>\n",
       "      <td>8</td>\n",
       "      <td>4</td>\n",
       "      <td>2015-09-17</td>\n",
       "      <td>1</td>\n",
       "      <td>1</td>\n",
       "      <td>0</td>\n",
       "      <td>0</td>\n",
       "    </tr>\n",
       "    <tr>\n",
       "      <th>4</th>\n",
       "      <td>5</td>\n",
       "      <td>9</td>\n",
       "      <td>4</td>\n",
       "      <td>2015-09-17</td>\n",
       "      <td>1</td>\n",
       "      <td>1</td>\n",
       "      <td>0</td>\n",
       "      <td>0</td>\n",
       "    </tr>\n",
       "  </tbody>\n",
       "</table>\n",
       "</div>"
      ],
      "text/plain": [
       "   Id  Store  DayOfWeek        Date  Open  Promo  StateHoliday  SchoolHoliday\n",
       "0   1      1          4  2015-09-17     1      1             0              0\n",
       "1   2      3          4  2015-09-17     1      1             0              0\n",
       "2   3      7          4  2015-09-17     1      1             0              0\n",
       "3   4      8          4  2015-09-17     1      1             0              0\n",
       "4   5      9          4  2015-09-17     1      1             0              0"
      ]
     },
     "execution_count": 9,
     "metadata": {},
     "output_type": "execute_result"
    }
   ],
   "source": [
    "test_df.head()"
   ]
  },
  {
   "cell_type": "code",
   "execution_count": 10,
   "metadata": {},
   "outputs": [
    {
     "name": "stdout",
     "output_type": "stream",
     "text": [
      "<class 'pandas.core.frame.DataFrame'>\n",
      "RangeIndex: 1115 entries, 0 to 1114\n",
      "Data columns (total 10 columns):\n",
      " #   Column                     Non-Null Count  Dtype\n",
      "---  ------                     --------------  -----\n",
      " 0   Store                      1115 non-null   int64\n",
      " 1   StoreType                  1115 non-null   int64\n",
      " 2   Assortment                 1115 non-null   int64\n",
      " 3   CompetitionDistance        1115 non-null   int64\n",
      " 4   CompetitionOpenSinceMonth  1115 non-null   int64\n",
      " 5   CompetitionOpenSinceYear   1115 non-null   int64\n",
      " 6   Promo2                     1115 non-null   int64\n",
      " 7   Promo2SinceWeek            1115 non-null   int64\n",
      " 8   Promo2SinceYear            1115 non-null   int64\n",
      " 9   PromoInterval              1115 non-null   int64\n",
      "dtypes: int64(10)\n",
      "memory usage: 87.2 KB\n"
     ]
    }
   ],
   "source": [
    "store_df.info()"
   ]
  },
  {
   "cell_type": "code",
   "execution_count": 11,
   "metadata": {},
   "outputs": [
    {
     "data": {
      "text/plain": [
       "((1017209, 9), (41088, 8), (1115, 10))"
      ]
     },
     "execution_count": 11,
     "metadata": {},
     "output_type": "execute_result"
    }
   ],
   "source": [
    "train_df.shape, test_df.shape, store_df.shape"
   ]
  },
  {
   "cell_type": "markdown",
   "metadata": {},
   "source": [
    "Merge store dataframe to train and test dataframes"
   ]
  },
  {
   "cell_type": "code",
   "execution_count": 12,
   "metadata": {},
   "outputs": [],
   "source": [
    "train_df = pd.merge(train_df, store_df, how = 'left', on = 'Store')\n",
    "test_df = pd.merge(test_df, store_df, how = 'left', on = 'Store')"
   ]
  },
  {
   "cell_type": "code",
   "execution_count": 13,
   "metadata": {},
   "outputs": [
    {
     "name": "stdout",
     "output_type": "stream",
     "text": [
      "<class 'pandas.core.frame.DataFrame'>\n",
      "Int64Index: 1017209 entries, 0 to 1017208\n",
      "Data columns (total 18 columns):\n",
      " #   Column                     Non-Null Count    Dtype \n",
      "---  ------                     --------------    ----- \n",
      " 0   Store                      1017209 non-null  int64 \n",
      " 1   DayOfWeek                  1017209 non-null  int64 \n",
      " 2   Date                       1017209 non-null  object\n",
      " 3   Sales                      1017209 non-null  int64 \n",
      " 4   Customers                  1017209 non-null  int64 \n",
      " 5   Open                       1017209 non-null  int64 \n",
      " 6   Promo                      1017209 non-null  int64 \n",
      " 7   StateHoliday               1017209 non-null  int64 \n",
      " 8   SchoolHoliday              1017209 non-null  int64 \n",
      " 9   StoreType                  1017209 non-null  int64 \n",
      " 10  Assortment                 1017209 non-null  int64 \n",
      " 11  CompetitionDistance        1017209 non-null  int64 \n",
      " 12  CompetitionOpenSinceMonth  1017209 non-null  int64 \n",
      " 13  CompetitionOpenSinceYear   1017209 non-null  int64 \n",
      " 14  Promo2                     1017209 non-null  int64 \n",
      " 15  Promo2SinceWeek            1017209 non-null  int64 \n",
      " 16  Promo2SinceYear            1017209 non-null  int64 \n",
      " 17  PromoInterval              1017209 non-null  int64 \n",
      "dtypes: int64(17), object(1)\n",
      "memory usage: 147.5+ MB\n"
     ]
    }
   ],
   "source": [
    "# The types and shape of data features in the dataset\n",
    "\n",
    "train_df.info()"
   ]
  },
  {
   "cell_type": "code",
   "execution_count": 14,
   "metadata": {},
   "outputs": [
    {
     "name": "stdout",
     "output_type": "stream",
     "text": [
      "<class 'pandas.core.frame.DataFrame'>\n",
      "Int64Index: 41088 entries, 0 to 41087\n",
      "Data columns (total 17 columns):\n",
      " #   Column                     Non-Null Count  Dtype \n",
      "---  ------                     --------------  ----- \n",
      " 0   Id                         41088 non-null  int64 \n",
      " 1   Store                      41088 non-null  int64 \n",
      " 2   DayOfWeek                  41088 non-null  int64 \n",
      " 3   Date                       41088 non-null  object\n",
      " 4   Open                       41088 non-null  int64 \n",
      " 5   Promo                      41088 non-null  int64 \n",
      " 6   StateHoliday               41088 non-null  int64 \n",
      " 7   SchoolHoliday              41088 non-null  int64 \n",
      " 8   StoreType                  41088 non-null  int64 \n",
      " 9   Assortment                 41088 non-null  int64 \n",
      " 10  CompetitionDistance        41088 non-null  int64 \n",
      " 11  CompetitionOpenSinceMonth  41088 non-null  int64 \n",
      " 12  CompetitionOpenSinceYear   41088 non-null  int64 \n",
      " 13  Promo2                     41088 non-null  int64 \n",
      " 14  Promo2SinceWeek            41088 non-null  int64 \n",
      " 15  Promo2SinceYear            41088 non-null  int64 \n",
      " 16  PromoInterval              41088 non-null  int64 \n",
      "dtypes: int64(16), object(1)\n",
      "memory usage: 5.6+ MB\n"
     ]
    }
   ],
   "source": [
    "# The types and shape of data features in the dataset\n",
    "\n",
    "test_df.info()"
   ]
  }
 ],
 "metadata": {
  "interpreter": {
   "hash": "0f08ea943be090a14eff5269cda570ac55dcc0e2bd93317a14b7d7e20047a087"
  },
  "kernelspec": {
   "display_name": "Python 3.10.4 64-bit (windows store)",
   "language": "python",
   "name": "python3"
  },
  "language_info": {
   "codemirror_mode": {
    "name": "ipython",
    "version": 3
   },
   "file_extension": ".py",
   "mimetype": "text/x-python",
   "name": "python",
   "nbconvert_exporter": "python",
   "pygments_lexer": "ipython3",
   "version": "3.10.4"
  },
  "orig_nbformat": 4
 },
 "nbformat": 4,
 "nbformat_minor": 2
}
