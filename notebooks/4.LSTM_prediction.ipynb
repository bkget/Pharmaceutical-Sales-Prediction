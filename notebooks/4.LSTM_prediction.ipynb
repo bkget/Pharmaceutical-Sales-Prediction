{
  "cells": [
    {
      "cell_type": "code",
      "execution_count": 35,
      "metadata": {
        "id": "AibSpKjWvhLB"
      },
      "outputs": [],
      "source": [
        "import numpy as np\n",
        "import pandas as pd\n",
        "import seaborn as sns\n",
        "import matplotlib.pyplot as plt\n",
        "\n",
        "from statsmodels.tsa.stattools import adfuller \n",
        "from sklearn.preprocessing import MinMaxScaler \n",
        "import tensorflow as tf\n",
        "from keras.models import Sequential\n",
        "from keras.layers import Dense\n",
        "from keras.layers import LSTM \n",
        "\n",
        "\n",
        "import os\n",
        "import sys\n",
        "import warnings\n",
        "warnings.filterwarnings('ignore')\n",
        "sns.set_style(\"darkgrid\")\n",
        "%matplotlib inline"
      ]
    },
    {
      "cell_type": "code",
      "execution_count": 12,
      "metadata": {
        "id": "OdGN2XsgvhLI"
      },
      "outputs": [],
      "source": [
        "sys.path.append(os.path.abspath(os.path.join('../scripts')))\n",
        "from file_handler import FileHandler\n",
        "from log import get_logger  \n",
        "file_handler = FileHandler()\n",
        "my_logger = get_logger(\"LSTM_Modeling\")  "
      ]
    },
    {
      "cell_type": "code",
      "execution_count": 13,
      "metadata": {
        "id": "DyRbkGoLvhLK"
      },
      "outputs": [
        {
          "name": "stdout",
          "output_type": "stream",
          "text": [
            "2022-05-28 06:11:08,541 — FileHandler — DEBUG — file read as csv\n"
          ]
        }
      ],
      "source": [
        "train_data = file_handler.read_csv(\"../data/cleaned_train.csv\") "
      ]
    },
    {
      "cell_type": "markdown",
      "metadata": {
        "id": "aQ21ZPyB0Nv3"
      },
      "source": [
        "### Isolate the Rossmann Store Sales Dataset into Time Series Data"
      ]
    },
    {
      "cell_type": "code",
      "execution_count": 14,
      "metadata": {
        "colab": {
          "base_uri": "https://localhost:8080/",
          "height": 394
        },
        "id": "r07nZVX3vhLK",
        "outputId": "2d93bbb4-5873-4f8c-dfc4-95fdcc2611bb"
      },
      "outputs": [
        {
          "data": {
            "text/html": [
              "<div>\n",
              "<style scoped>\n",
              "    .dataframe tbody tr th:only-of-type {\n",
              "        vertical-align: middle;\n",
              "    }\n",
              "\n",
              "    .dataframe tbody tr th {\n",
              "        vertical-align: top;\n",
              "    }\n",
              "\n",
              "    .dataframe thead th {\n",
              "        text-align: right;\n",
              "    }\n",
              "</style>\n",
              "<table border=\"1\" class=\"dataframe\">\n",
              "  <thead>\n",
              "    <tr style=\"text-align: right;\">\n",
              "      <th></th>\n",
              "      <th>Sales</th>\n",
              "    </tr>\n",
              "    <tr>\n",
              "      <th>Date</th>\n",
              "      <th></th>\n",
              "    </tr>\n",
              "  </thead>\n",
              "  <tbody>\n",
              "    <tr>\n",
              "      <th>2013-01-01</th>\n",
              "      <td>84.395871</td>\n",
              "    </tr>\n",
              "    <tr>\n",
              "      <th>2013-01-02</th>\n",
              "      <td>6178.517489</td>\n",
              "    </tr>\n",
              "    <tr>\n",
              "      <th>2013-01-03</th>\n",
              "      <td>5660.173094</td>\n",
              "    </tr>\n",
              "    <tr>\n",
              "      <th>2013-01-04</th>\n",
              "      <td>5923.138117</td>\n",
              "    </tr>\n",
              "    <tr>\n",
              "      <th>2013-01-05</th>\n",
              "      <td>5299.049327</td>\n",
              "    </tr>\n",
              "    <tr>\n",
              "      <th>2013-01-06</th>\n",
              "      <td>119.357848</td>\n",
              "    </tr>\n",
              "    <tr>\n",
              "      <th>2013-01-07</th>\n",
              "      <td>9377.999103</td>\n",
              "    </tr>\n",
              "    <tr>\n",
              "      <th>2013-01-08</th>\n",
              "      <td>7742.737220</td>\n",
              "    </tr>\n",
              "    <tr>\n",
              "      <th>2013-01-09</th>\n",
              "      <td>6887.256502</td>\n",
              "    </tr>\n",
              "    <tr>\n",
              "      <th>2013-01-10</th>\n",
              "      <td>6894.729148</td>\n",
              "    </tr>\n",
              "  </tbody>\n",
              "</table>\n",
              "</div>"
            ],
            "text/plain": [
              "                  Sales\n",
              "Date                   \n",
              "2013-01-01    84.395871\n",
              "2013-01-02  6178.517489\n",
              "2013-01-03  5660.173094\n",
              "2013-01-04  5923.138117\n",
              "2013-01-05  5299.049327\n",
              "2013-01-06   119.357848\n",
              "2013-01-07  9377.999103\n",
              "2013-01-08  7742.737220\n",
              "2013-01-09  6887.256502\n",
              "2013-01-10  6894.729148"
            ]
          },
          "execution_count": 14,
          "metadata": {},
          "output_type": "execute_result"
        }
      ],
      "source": [
        "data = train_data.groupby(\"Date\").agg({\"Sales\": \"mean\"})\n",
        "data.head(10)"
      ]
    },
    {
      "cell_type": "markdown",
      "metadata": {
        "id": "LxBp-3QS0ZQB"
      },
      "source": [
        "### Check if the Time Series Data is Stationary"
      ]
    },
    {
      "cell_type": "code",
      "execution_count": 15,
      "metadata": {
        "colab": {
          "base_uri": "https://localhost:8080/"
        },
        "id": "vujFduYx0aX_",
        "outputId": "75defc62-3c61-406c-d965-5df76bf542c2"
      },
      "outputs": [
        {
          "name": "stdout",
          "output_type": "stream",
          "text": [
            "ADF Statistic: -5.751282394418175\n",
            "p-value: 5.958430360162239e-07\n"
          ]
        }
      ],
      "source": [
        "adfResult = adfuller(data.Sales.values, autolag='AIC')\n",
        "print(f'ADF Statistic: {adfResult[0]}')\n",
        "print(f'p-value: {adfResult[1]}')"
      ]
    },
    {
      "cell_type": "markdown",
      "metadata": {
        "id": "pUHW4Ene0e4f"
      },
      "source": [
        "Since the p-value is less than 0.05, the data is not Stationary."
      ]
    },
    {
      "cell_type": "code",
      "execution_count": 16,
      "metadata": {
        "colab": {
          "base_uri": "https://localhost:8080/",
          "height": 394
        },
        "id": "5Apwp5bP0aVv",
        "outputId": "2125ead1-7885-4a8e-a554-028c6753c245"
      },
      "outputs": [
        {
          "name": "stdout",
          "output_type": "stream",
          "text": [
            "2022-05-28 06:11:09,300 — LSTM_Modeling — DEBUG — Data scaled successfully.\n",
            "2022-05-28 06:11:09,300 — LSTM_Modeling — DEBUG — Data scaled successfully.\n",
            "2022-05-28 06:11:09,300 — LSTM_Modeling — DEBUG — Data scaled successfully.\n",
            "2022-05-28 06:11:09,300 — LSTM_Modeling — DEBUG — Data scaled successfully.\n"
          ]
        }
      ],
      "source": [
        "scaler = MinMaxScaler()\n",
        "\n",
        "try:\n",
        "    scaler.fit(data.Sales.values.reshape([-1, 1]))\n",
        "    scaled_array = scaler.transform(data.Sales.values.reshape(-1, 1))\n",
        "    data['SalesScaled'] = scaled_array\n",
        "    data.tail(10)\n",
        "\n",
        "    my_logger.debug(\"Data scaled successfully.\")\n",
        "\n",
        "except Exception as e:\n",
        "    my_logger.exception(f\"Scaling error, {e}\")"
      ]
    },
    {
      "cell_type": "code",
      "execution_count": 17,
      "metadata": {
        "colab": {
          "base_uri": "https://localhost:8080/"
        },
        "id": "o6rJ7teT0idA",
        "outputId": "ccdeeca9-d05a-486c-ca01-2a41f1f0da1c"
      },
      "outputs": [
        {
          "name": "stdout",
          "output_type": "stream",
          "text": [
            "ADF Statistic: -5.7512823944181894\n",
            "p-value: 5.958430360161802e-07\n"
          ]
        }
      ],
      "source": [
        "# Check if Scaled Sales is Stationary\n",
        "\n",
        "adfResult = adfuller(data.SalesScaled.values, autolag='AIC')\n",
        "print(f'ADF Statistic: {adfResult[0]}')\n",
        "print(f'p-value: {adfResult[1]}')"
      ]
    },
    {
      "cell_type": "markdown",
      "metadata": {},
      "source": [
        "### Differencing the Time Series Data"
      ]
    },
    {
      "cell_type": "code",
      "execution_count": 18,
      "metadata": {},
      "outputs": [
        {
          "data": {
            "text/plain": [
              "0      0.506975\n",
              "1     -0.043121\n",
              "2      0.021876\n",
              "3     -0.051918\n",
              "4     -0.430903\n",
              "         ...   \n",
              "936    0.760631\n",
              "937   -0.108573\n",
              "938   -0.043412\n",
              "939    0.022197\n",
              "940    0.089605\n",
              "Length: 941, dtype: float64"
            ]
          },
          "execution_count": 18,
          "metadata": {},
          "output_type": "execute_result"
        }
      ],
      "source": [
        "# Create a differenced series\n",
        "def difference(dataset, interval=1):\n",
        "    diff = list()\n",
        "    for i in range(interval, len(dataset)):\n",
        "        value = dataset[i] - dataset[i - interval]\n",
        "        diff.append(value)\n",
        "    return pd.Series(diff)\n",
        "\n",
        "salesScaledDiff = difference(data.SalesScaled.values)\n",
        "salesScaledDiff"
      ]
    },
    {
      "cell_type": "markdown",
      "metadata": {
        "id": "BfPpQSM60uoy"
      },
      "source": [
        "### Making the Data ready for Modeling"
      ]
    },
    {
      "cell_type": "code",
      "execution_count": 19,
      "metadata": {
        "id": "0NWrqGYevhLN"
      },
      "outputs": [],
      "source": [
        "SIZE = len(data.SalesScaled)\n",
        "WINDOW_SIZE = 48\n",
        "BATCH_SIZE = SIZE - WINDOW_SIZE * 2\n",
        "EPOCHS = 200"
      ]
    },
    {
      "cell_type": "code",
      "execution_count": 20,
      "metadata": {
        "colab": {
          "base_uri": "https://localhost:8080/"
        },
        "id": "-sxjIDupvhLO",
        "outputId": "814d96be-4c87-46e6-f14d-9cf3ae7c5290"
      },
      "outputs": [
        {
          "name": "stdout",
          "output_type": "stream",
          "text": [
            "Shape of the training set date series:  (846, 1)\n",
            "Shape of the validation set date series:  (96, 1)\n",
            "\n",
            "Shape of the training set logarithm of sales series:  (846,)\n",
            "Shape of the validation set logarithm of sales series in a stateless LSTM:  (96,)\n"
          ]
        }
      ],
      "source": [
        "DateTrain = data.index.values[0:BATCH_SIZE]\n",
        "DateValid = data.index.values[BATCH_SIZE:]\n",
        "XTrain = data.SalesScaled.values[0:BATCH_SIZE].astype('float32')\n",
        "XValid = data.SalesScaled.values[BATCH_SIZE:].astype('float32')\n",
        "\n",
        "# Obtain shapes for vectors of size (,1) for dates series\n",
        "\n",
        "DateTrain = np.reshape(DateTrain, (-1, 1))\n",
        "DateValid = np.reshape(DateValid, (-1, 1))\n",
        "\n",
        "print(\"Shape of the training set date series: \", DateTrain.shape)\n",
        "print(\"Shape of the validation set date series: \", DateValid.shape)\n",
        "print()\n",
        "print(\"Shape of the training set logarithm of sales series: \", XTrain.shape)\n",
        "print(\"Shape of the validation set logarithm of sales series in a stateless LSTM: \", XValid.shape)"
      ]
    },
    {
      "cell_type": "code",
      "execution_count": 21,
      "metadata": {
        "colab": {
          "base_uri": "https://localhost:8080/"
        },
        "id": "D-YwAj4-vhLR",
        "outputId": "7d61084c-4d24-4673-f04f-dc6e899f6e7c"
      },
      "outputs": [
        {
          "data": {
            "text/plain": [
              "TensorShape([846, 1])"
            ]
          },
          "execution_count": 21,
          "metadata": {},
          "output_type": "execute_result"
        }
      ],
      "source": [
        "tf.random.set_seed(1234)\n",
        "# add extra dimension\n",
        "series = tf.expand_dims(XTrain, axis=-1)\n",
        "series.shape"
      ]
    },
    {
      "cell_type": "code",
      "execution_count": 22,
      "metadata": {
        "colab": {
          "base_uri": "https://localhost:8080/"
        },
        "id": "ppB31C0MvhLT",
        "outputId": "d552a4c5-b20f-468c-de0d-99f9d34129da"
      },
      "outputs": [
        {
          "data": {
            "text/plain": [
              "<TensorSliceDataset element_spec=TensorSpec(shape=(1,), dtype=tf.float32, name=None)>"
            ]
          },
          "execution_count": 22,
          "metadata": {},
          "output_type": "execute_result"
        }
      ],
      "source": [
        "# create tensor from each individual element\n",
        "dataset = tf.data.Dataset.from_tensor_slices(series)\n",
        "dataset"
      ]
    },
    {
      "cell_type": "code",
      "execution_count": 23,
      "metadata": {
        "id": "molbGZIJvhLV"
      },
      "outputs": [],
      "source": [
        "# takes a window_size + 1 chunk from the slices\n",
        "dataset = dataset.window(WINDOW_SIZE + 1, shift=1, drop_remainder=True)"
      ]
    },
    {
      "cell_type": "code",
      "execution_count": 24,
      "metadata": {
        "colab": {
          "base_uri": "https://localhost:8080/"
        },
        "id": "t7JtdgE1vhLW",
        "outputId": "656dd218-f079-4010-daf0-2fa3bf521e1c"
      },
      "outputs": [
        {
          "name": "stdout",
          "output_type": "stream",
          "text": [
            "[0, 1, 2, 3, 4]\n",
            "[1, 2, 3, 4, 5]\n",
            "[2, 3, 4, 5, 6]\n",
            "[3, 4, 5, 6, 7]\n",
            "[4, 5, 6, 7, 8]\n",
            "[5, 6, 7, 8, 9]\n"
          ]
        }
      ],
      "source": [
        "datasetEx = tf.data.Dataset.from_tensor_slices(tf.range(10))\n",
        "datasetEx = datasetEx.window(5, shift=1, drop_remainder=True)\n",
        "for window in datasetEx:\n",
        "    print([elem.numpy() for elem in window])"
      ]
    },
    {
      "cell_type": "code",
      "execution_count": 25,
      "metadata": {
        "id": "JTh-MfzYvhLX"
      },
      "outputs": [],
      "source": [
        "dataset = dataset.flat_map(lambda window: window.batch(WINDOW_SIZE + 1))\n",
        "dataset = dataset.map(lambda window: (window[:-1], window[-1:]))\n",
        "dataset = dataset.batch(BATCH_SIZE).prefetch(1)"
      ]
    },
    {
      "cell_type": "code",
      "execution_count": 26,
      "metadata": {
        "id": "lFXrq5YkvhLZ"
      },
      "outputs": [],
      "source": [
        "def windowed_dataset(series, window_size=WINDOW_SIZE, batch_size=BATCH_SIZE):\n",
        "  series = tf.expand_dims(series, axis=-1)\n",
        "  dataset = tf.data.Dataset.from_tensor_slices(series)\n",
        "  dataset = dataset.window(window_size + 1, shift=1, drop_remainder=True)\n",
        "  dataset = dataset.flat_map(lambda window: window.batch(window_size + 1))\n",
        "  dataset = dataset.map(lambda window: (window[:-1], window[-1:]))\n",
        "  dataset = dataset.batch(batch_size).prefetch(1)\n",
        "  return dataset"
      ]
    },
    {
      "cell_type": "code",
      "execution_count": 27,
      "metadata": {
        "id": "Tc5GWnP-vhLa"
      },
      "outputs": [],
      "source": [
        "DatasetTrain = windowed_dataset(XTrain)\n",
        "DatasetVal = windowed_dataset(XValid)"
      ]
    },
    {
      "cell_type": "markdown",
      "metadata": {},
      "source": [
        "### Model Building"
      ]
    },
    {
      "cell_type": "code",
      "execution_count": 28,
      "metadata": {
        "colab": {
          "base_uri": "https://localhost:8080/"
        },
        "id": "kKf2XXeFvhLa",
        "outputId": "1bfc6d99-7de4-4be5-cb14-d81b398f80c9"
      },
      "outputs": [
        {
          "name": "stdout",
          "output_type": "stream",
          "text": [
            "Model: \"sequential\"\n",
            "_________________________________________________________________\n",
            " Layer (type)                Output Shape              Param #   \n",
            "=================================================================\n",
            " lstm (LSTM)                 (None, None, 8)           320       \n",
            "                                                                 \n",
            " lstm_1 (LSTM)               (None, 4)                 208       \n",
            "                                                                 \n",
            " dense (Dense)               (None, 1)                 5         \n",
            "                                                                 \n",
            "=================================================================\n",
            "Total params: 533\n",
            "Trainable params: 533\n",
            "Non-trainable params: 0\n",
            "_________________________________________________________________\n"
          ]
        }
      ],
      "source": [
        "model = Sequential()\n",
        "model.add(LSTM(8, input_shape=[None, 1], return_sequences=True))\n",
        "model.add(LSTM(4, input_shape=[None, 1]))\n",
        "model.add(Dense(1))\n",
        "model.compile(loss=\"huber_loss\", optimizer='adam')\n",
        "model.summary()"
      ]
    }
  ],
  "metadata": {
    "colab": {
      "name": "LSTM_prediction.ipynb",
      "provenance": []
    },
    "interpreter": {
      "hash": "0f08ea943be090a14eff5269cda570ac55dcc0e2bd93317a14b7d7e20047a087"
    },
    "kernelspec": {
      "display_name": "Python 3.10.4 64-bit (windows store)",
      "language": "python",
      "name": "python3"
    },
    "language_info": {
      "codemirror_mode": {
        "name": "ipython",
        "version": 3
      },
      "file_extension": ".py",
      "mimetype": "text/x-python",
      "name": "python",
      "nbconvert_exporter": "python",
      "pygments_lexer": "ipython3",
      "version": "3.10.4"
    },
    "orig_nbformat": 4
  },
  "nbformat": 4,
  "nbformat_minor": 0
}
