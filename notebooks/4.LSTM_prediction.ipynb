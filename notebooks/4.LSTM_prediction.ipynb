{
  "cells": [
    {
      "cell_type": "code",
      "execution_count": 35,
      "metadata": {
        "id": "AibSpKjWvhLB"
      },
      "outputs": [],
      "source": [
        "import numpy as np\n",
        "import pandas as pd\n",
        "import seaborn as sns\n",
        "import matplotlib.pyplot as plt\n",
        "\n",
        "from statsmodels.tsa.stattools import adfuller \n",
        "from sklearn.preprocessing import MinMaxScaler \n",
        "import tensorflow as tf\n",
        "from keras.models import Sequential\n",
        "from keras.layers import Dense\n",
        "from keras.layers import LSTM \n",
        "\n",
        "\n",
        "import os\n",
        "import sys\n",
        "import warnings\n",
        "warnings.filterwarnings('ignore')\n",
        "sns.set_style(\"darkgrid\")\n",
        "%matplotlib inline"
      ]
    },
    {
      "cell_type": "code",
      "execution_count": 12,
      "metadata": {
        "id": "OdGN2XsgvhLI"
      },
      "outputs": [],
      "source": [
        "sys.path.append(os.path.abspath(os.path.join('../scripts')))\n",
        "from file_handler import FileHandler\n",
        "from log import get_logger  \n",
        "file_handler = FileHandler()\n",
        "my_logger = get_logger(\"LSTM_Modeling\")  "
      ]
    },
    {
      "cell_type": "code",
      "execution_count": 13,
      "metadata": {
        "id": "DyRbkGoLvhLK"
      },
      "outputs": [
        {
          "name": "stdout",
          "output_type": "stream",
          "text": [
            "2022-05-28 06:11:08,541 — FileHandler — DEBUG — file read as csv\n"
          ]
        }
      ],
      "source": [
        "train_data = file_handler.read_csv(\"../data/cleaned_train.csv\") "
      ]
    },
    {
      "cell_type": "markdown",
      "metadata": {
        "id": "aQ21ZPyB0Nv3"
      },
      "source": [
        "### Isolate the Rossmann Store Sales Dataset into Time Series Data"
      ]
    },
    {
      "cell_type": "code",
      "execution_count": 14,
      "metadata": {
        "colab": {
          "base_uri": "https://localhost:8080/",
          "height": 394
        },
        "id": "r07nZVX3vhLK",
        "outputId": "2d93bbb4-5873-4f8c-dfc4-95fdcc2611bb"
      },
      "outputs": [
        {
          "data": {
            "text/html": [
              "<div>\n",
              "<style scoped>\n",
              "    .dataframe tbody tr th:only-of-type {\n",
              "        vertical-align: middle;\n",
              "    }\n",
              "\n",
              "    .dataframe tbody tr th {\n",
              "        vertical-align: top;\n",
              "    }\n",
              "\n",
              "    .dataframe thead th {\n",
              "        text-align: right;\n",
              "    }\n",
              "</style>\n",
              "<table border=\"1\" class=\"dataframe\">\n",
              "  <thead>\n",
              "    <tr style=\"text-align: right;\">\n",
              "      <th></th>\n",
              "      <th>Sales</th>\n",
              "    </tr>\n",
              "    <tr>\n",
              "      <th>Date</th>\n",
              "      <th></th>\n",
              "    </tr>\n",
              "  </thead>\n",
              "  <tbody>\n",
              "    <tr>\n",
              "      <th>2013-01-01</th>\n",
              "      <td>84.395871</td>\n",
              "    </tr>\n",
              "    <tr>\n",
              "      <th>2013-01-02</th>\n",
              "      <td>6178.517489</td>\n",
              "    </tr>\n",
              "    <tr>\n",
              "      <th>2013-01-03</th>\n",
              "      <td>5660.173094</td>\n",
              "    </tr>\n",
              "    <tr>\n",
              "      <th>2013-01-04</th>\n",
              "      <td>5923.138117</td>\n",
              "    </tr>\n",
              "    <tr>\n",
              "      <th>2013-01-05</th>\n",
              "      <td>5299.049327</td>\n",
              "    </tr>\n",
              "    <tr>\n",
              "      <th>2013-01-06</th>\n",
              "      <td>119.357848</td>\n",
              "    </tr>\n",
              "    <tr>\n",
              "      <th>2013-01-07</th>\n",
              "      <td>9377.999103</td>\n",
              "    </tr>\n",
              "    <tr>\n",
              "      <th>2013-01-08</th>\n",
              "      <td>7742.737220</td>\n",
              "    </tr>\n",
              "    <tr>\n",
              "      <th>2013-01-09</th>\n",
              "      <td>6887.256502</td>\n",
              "    </tr>\n",
              "    <tr>\n",
              "      <th>2013-01-10</th>\n",
              "      <td>6894.729148</td>\n",
              "    </tr>\n",
              "  </tbody>\n",
              "</table>\n",
              "</div>"
            ],
            "text/plain": [
              "                  Sales\n",
              "Date                   \n",
              "2013-01-01    84.395871\n",
              "2013-01-02  6178.517489\n",
              "2013-01-03  5660.173094\n",
              "2013-01-04  5923.138117\n",
              "2013-01-05  5299.049327\n",
              "2013-01-06   119.357848\n",
              "2013-01-07  9377.999103\n",
              "2013-01-08  7742.737220\n",
              "2013-01-09  6887.256502\n",
              "2013-01-10  6894.729148"
            ]
          },
          "execution_count": 14,
          "metadata": {},
          "output_type": "execute_result"
        }
      ],
      "source": [
        "data = train_data.groupby(\"Date\").agg({\"Sales\": \"mean\"})\n",
        "data.head(10)"
      ]
    },
    {
      "cell_type": "markdown",
      "metadata": {
        "id": "LxBp-3QS0ZQB"
      },
      "source": [
        "### Check if the Time Series Data is Stationary"
      ]
    },
    {
      "cell_type": "code",
      "execution_count": 15,
      "metadata": {
        "colab": {
          "base_uri": "https://localhost:8080/"
        },
        "id": "vujFduYx0aX_",
        "outputId": "75defc62-3c61-406c-d965-5df76bf542c2"
      },
      "outputs": [
        {
          "name": "stdout",
          "output_type": "stream",
          "text": [
            "ADF Statistic: -5.751282394418175\n",
            "p-value: 5.958430360162239e-07\n"
          ]
        }
      ],
      "source": [
        "adfResult = adfuller(data.Sales.values, autolag='AIC')\n",
        "print(f'ADF Statistic: {adfResult[0]}')\n",
        "print(f'p-value: {adfResult[1]}')"
      ]
    },
    {
      "cell_type": "markdown",
      "metadata": {
        "id": "pUHW4Ene0e4f"
      },
      "source": [
        "Since the p-value is less than 0.05, the data is not Stationary."
      ]
    },
    {
      "cell_type": "code",
      "execution_count": 16,
      "metadata": {
        "colab": {
          "base_uri": "https://localhost:8080/",
          "height": 394
        },
        "id": "5Apwp5bP0aVv",
        "outputId": "2125ead1-7885-4a8e-a554-028c6753c245"
      },
      "outputs": [
        {
          "name": "stdout",
          "output_type": "stream",
          "text": [
            "2022-05-28 06:11:09,300 — LSTM_Modeling — DEBUG — Data scaled successfully.\n",
            "2022-05-28 06:11:09,300 — LSTM_Modeling — DEBUG — Data scaled successfully.\n",
            "2022-05-28 06:11:09,300 — LSTM_Modeling — DEBUG — Data scaled successfully.\n",
            "2022-05-28 06:11:09,300 — LSTM_Modeling — DEBUG — Data scaled successfully.\n"
          ]
        }
      ],
      "source": [
        "scaler = MinMaxScaler()\n",
        "\n",
        "try:\n",
        "    scaler.fit(data.Sales.values.reshape([-1, 1]))\n",
        "    scaled_array = scaler.transform(data.Sales.values.reshape(-1, 1))\n",
        "    data['SalesScaled'] = scaled_array\n",
        "    data.tail(10)\n",
        "\n",
        "    my_logger.debug(\"Data scaled successfully.\")\n",
        "\n",
        "except Exception as e:\n",
        "    my_logger.exception(f\"Scaling error, {e}\")"
      ]
    },
    {
      "cell_type": "code",
      "execution_count": 17,
      "metadata": {
        "colab": {
          "base_uri": "https://localhost:8080/"
        },
        "id": "o6rJ7teT0idA",
        "outputId": "ccdeeca9-d05a-486c-ca01-2a41f1f0da1c"
      },
      "outputs": [
        {
          "name": "stdout",
          "output_type": "stream",
          "text": [
            "ADF Statistic: -5.7512823944181894\n",
            "p-value: 5.958430360161802e-07\n"
          ]
        }
      ],
      "source": [
        "# Check if Scaled Sales is Stationary\n",
        "\n",
        "adfResult = adfuller(data.SalesScaled.values, autolag='AIC')\n",
        "print(f'ADF Statistic: {adfResult[0]}')\n",
        "print(f'p-value: {adfResult[1]}')"
      ]
    },
    {
      "cell_type": "markdown",
      "metadata": {},
      "source": [
        "### Differencing the Time Series Data"
      ]
    },
    {
      "cell_type": "code",
      "execution_count": 18,
      "metadata": {},
      "outputs": [
        {
          "data": {
            "text/plain": [
              "0      0.506975\n",
              "1     -0.043121\n",
              "2      0.021876\n",
              "3     -0.051918\n",
              "4     -0.430903\n",
              "         ...   \n",
              "936    0.760631\n",
              "937   -0.108573\n",
              "938   -0.043412\n",
              "939    0.022197\n",
              "940    0.089605\n",
              "Length: 941, dtype: float64"
            ]
          },
          "execution_count": 18,
          "metadata": {},
          "output_type": "execute_result"
        }
      ],
      "source": [
        "# Create a differenced series\n",
        "def difference(dataset, interval=1):\n",
        "    diff = list()\n",
        "    for i in range(interval, len(dataset)):\n",
        "        value = dataset[i] - dataset[i - interval]\n",
        "        diff.append(value)\n",
        "    return pd.Series(diff)\n",
        "\n",
        "salesScaledDiff = difference(data.SalesScaled.values)\n",
        "salesScaledDiff"
      ]
    }
  ],
  "metadata": {
    "colab": {
      "name": "LSTM_prediction.ipynb",
      "provenance": []
    },
    "interpreter": {
      "hash": "0f08ea943be090a14eff5269cda570ac55dcc0e2bd93317a14b7d7e20047a087"
    },
    "kernelspec": {
      "display_name": "Python 3.10.4 64-bit (windows store)",
      "language": "python",
      "name": "python3"
    },
    "language_info": {
      "codemirror_mode": {
        "name": "ipython",
        "version": 3
      },
      "file_extension": ".py",
      "mimetype": "text/x-python",
      "name": "python",
      "nbconvert_exporter": "python",
      "pygments_lexer": "ipython3",
      "version": "3.10.4"
    },
    "orig_nbformat": 4
  },
  "nbformat": 4,
  "nbformat_minor": 0
}
